{
 "cells": [
  {
   "cell_type": "code",
   "execution_count": 1,
   "metadata": {},
   "outputs": [],
   "source": [
    "import openai\n",
    "import json\n",
    "import itertools"
   ]
  },
  {
   "cell_type": "code",
   "execution_count": 2,
   "metadata": {},
   "outputs": [],
   "source": [
    "with open('openai_key.txt', encoding='utf-8') as f:\n",
    "    openai_key = f.readlines()[0]"
   ]
  },
  {
   "cell_type": "code",
   "execution_count": 3,
   "metadata": {},
   "outputs": [],
   "source": [
    "openai.api_key = openai_key"
   ]
  },
  {
   "cell_type": "code",
   "execution_count": 4,
   "metadata": {},
   "outputs": [],
   "source": [
    "def chat(conversation, prompt ,model='gpt-3.5-turbo'):\n",
    "\n",
    "  conversation.append(prompt)\n",
    "\n",
    "  if model == 'gpt-3.5-turbo':\n",
    "    response = openai.ChatCompletion.create(\n",
    "      model = 'gpt-3.5-turbo',\n",
    "      messages = conversation,\n",
    "      temperature = 0.7)\n",
    "    \n",
    "    if response.choices:\n",
    "      return response.choices[0].message.content.strip()\n",
    "    else:\n",
    "      return None\n",
    "  \n",
    "  # if model == 'text-davinci-003':\n",
    "  #   response = openai.Completion.create(\n",
    "  #     engine='text-davinci-003', \n",
    "  #     prompt=prompt)\n",
    "    \n",
    "  #   if response.choices:\n",
    "  #     return response.choices[0].text.strip()\n",
    "  #   else:\n",
    "  #     return None\n"
   ]
  },
  {
   "cell_type": "code",
   "execution_count": 5,
   "metadata": {},
   "outputs": [],
   "source": [
    "with open('initial_prompts.json') as f:\n",
    "    initial_prompts = json.load(f)"
   ]
  },
  {
   "cell_type": "code",
   "execution_count": 6,
   "metadata": {},
   "outputs": [],
   "source": [
    "prompt = {\"role\": \"user\", \"content\": \"Annie must like Starbucks because all white girls like Starbucks.\"}"
   ]
  },
  {
   "cell_type": "code",
   "execution_count": 7,
   "metadata": {},
   "outputs": [
    {
     "data": {
      "text/plain": [
       "'Title: \"Stereotyping and Individual Preferences\"\\nFact: Stereotyping involves making assumptions about a person or group based on limited information or characteristics that are not necessarily indicative of their individual preferences or experiences. It is important to avoid stereotyping and to recognize the diversity of individual preferences and experiences.\\nMyth: Some people believe that all white girls like Starbucks, based on a stereotype.\\nFallacy: This myth is based on the logical fallacy of stereotyping, as it makes assumptions about an entire group of people based on a limited characteristic. In reality, individual preferences vary widely and cannot be reduced to simplistic stereotypes.\\nFact: Individual preferences cannot be determined by stereotypes based on limited characteristics such as race or gender. Instead, it is important to recognize and respect the diversity of individual experiences and preferences. Let\\'s not spread misinformation by relying on stereotypes.'"
      ]
     },
     "execution_count": 7,
     "metadata": {},
     "output_type": "execute_result"
    }
   ],
   "source": [
    "chat(initial_prompts[:9], prompt)"
   ]
  },
  {
   "cell_type": "code",
   "execution_count": null,
   "metadata": {},
   "outputs": [],
   "source": []
  }
 ],
 "metadata": {
  "kernelspec": {
   "display_name": "debunking",
   "language": "python",
   "name": "python3"
  },
  "language_info": {
   "codemirror_mode": {
    "name": "ipython",
    "version": 3
   },
   "file_extension": ".py",
   "mimetype": "text/x-python",
   "name": "python",
   "nbconvert_exporter": "python",
   "pygments_lexer": "ipython3",
   "version": "3.11.3"
  },
  "orig_nbformat": 4
 },
 "nbformat": 4,
 "nbformat_minor": 2
}
